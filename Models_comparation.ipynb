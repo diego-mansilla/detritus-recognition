{
 "cells": [
  {
   "cell_type": "code",
   "execution_count": 1,
   "metadata": {
    "scrolled": true
   },
   "outputs": [
    {
     "name": "stderr",
     "output_type": "stream",
     "text": [
      "2022-11-24 06:27:17.200697: I tensorflow/stream_executor/platform/default/dso_loader.cc:53] Successfully opened dynamic library libcudart.so.11.0\n",
      "2022-11-24 06:27:24.661210: I tensorflow/stream_executor/platform/default/dso_loader.cc:53] Successfully opened dynamic library libcuda.so.1\n",
      "2022-11-24 06:27:24.761933: I tensorflow/core/common_runtime/gpu/gpu_device.cc:1733] Found device 0 with properties: \n",
      "pciBusID: 0000:02:00.0 name: NVIDIA GeForce GTX 1080 Ti computeCapability: 6.1\n",
      "coreClock: 1.6705GHz coreCount: 28 deviceMemorySize: 10.91GiB deviceMemoryBandwidth: 451.17GiB/s\n",
      "2022-11-24 06:27:24.762375: I tensorflow/core/common_runtime/gpu/gpu_device.cc:1733] Found device 1 with properties: \n",
      "pciBusID: 0000:81:00.0 name: NVIDIA GeForce GTX 1080 Ti computeCapability: 6.1\n",
      "coreClock: 1.6705GHz coreCount: 28 deviceMemorySize: 10.92GiB deviceMemoryBandwidth: 451.17GiB/s\n",
      "2022-11-24 06:27:24.762418: I tensorflow/stream_executor/platform/default/dso_loader.cc:53] Successfully opened dynamic library libcudart.so.11.0\n",
      "2022-11-24 06:27:24.770581: I tensorflow/stream_executor/platform/default/dso_loader.cc:53] Successfully opened dynamic library libcublas.so.11\n",
      "2022-11-24 06:27:24.770655: I tensorflow/stream_executor/platform/default/dso_loader.cc:53] Successfully opened dynamic library libcublasLt.so.11\n",
      "2022-11-24 06:27:24.773754: I tensorflow/stream_executor/platform/default/dso_loader.cc:53] Successfully opened dynamic library libcufft.so.10\n",
      "2022-11-24 06:27:24.775220: I tensorflow/stream_executor/platform/default/dso_loader.cc:53] Successfully opened dynamic library libcurand.so.10\n",
      "2022-11-24 06:27:24.776410: I tensorflow/stream_executor/platform/default/dso_loader.cc:53] Successfully opened dynamic library libcusolver.so.11\n",
      "2022-11-24 06:27:24.780071: I tensorflow/stream_executor/platform/default/dso_loader.cc:53] Successfully opened dynamic library libcusparse.so.11\n",
      "2022-11-24 06:27:24.780344: I tensorflow/stream_executor/platform/default/dso_loader.cc:53] Successfully opened dynamic library libcudnn.so.8\n",
      "2022-11-24 06:27:24.781645: I tensorflow/core/common_runtime/gpu/gpu_device.cc:1871] Adding visible gpu devices: 0, 1\n",
      "2022-11-24 06:27:24.782297: I tensorflow/core/platform/cpu_feature_guard.cc:142] This TensorFlow binary is optimized with oneAPI Deep Neural Network Library (oneDNN) to use the following CPU instructions in performance-critical operations:  AVX2 FMA\n",
      "To enable them in other operations, rebuild TensorFlow with the appropriate compiler flags.\n",
      "2022-11-24 06:27:25.247941: I tensorflow/core/common_runtime/gpu/gpu_device.cc:1733] Found device 0 with properties: \n",
      "pciBusID: 0000:02:00.0 name: NVIDIA GeForce GTX 1080 Ti computeCapability: 6.1\n",
      "coreClock: 1.6705GHz coreCount: 28 deviceMemorySize: 10.91GiB deviceMemoryBandwidth: 451.17GiB/s\n",
      "2022-11-24 06:27:25.248164: I tensorflow/core/common_runtime/gpu/gpu_device.cc:1733] Found device 1 with properties: \n",
      "pciBusID: 0000:81:00.0 name: NVIDIA GeForce GTX 1080 Ti computeCapability: 6.1\n",
      "coreClock: 1.6705GHz coreCount: 28 deviceMemorySize: 10.92GiB deviceMemoryBandwidth: 451.17GiB/s\n",
      "2022-11-24 06:27:25.248829: I tensorflow/core/common_runtime/gpu/gpu_device.cc:1871] Adding visible gpu devices: 0, 1\n",
      "2022-11-24 06:27:25.248895: I tensorflow/stream_executor/platform/default/dso_loader.cc:53] Successfully opened dynamic library libcudart.so.11.0\n",
      "2022-11-24 06:27:26.046893: I tensorflow/core/common_runtime/gpu/gpu_device.cc:1258] Device interconnect StreamExecutor with strength 1 edge matrix:\n",
      "2022-11-24 06:27:26.046933: I tensorflow/core/common_runtime/gpu/gpu_device.cc:1264]      0 1 \n",
      "2022-11-24 06:27:26.046940: I tensorflow/core/common_runtime/gpu/gpu_device.cc:1277] 0:   N N \n",
      "2022-11-24 06:27:26.046945: I tensorflow/core/common_runtime/gpu/gpu_device.cc:1277] 1:   N N \n",
      "2022-11-24 06:27:26.048114: I tensorflow/core/common_runtime/gpu/gpu_device.cc:1418] Created TensorFlow device (/job:localhost/replica:0/task:0/device:GPU:0 with 10415 MB memory) -> physical GPU (device: 0, name: NVIDIA GeForce GTX 1080 Ti, pci bus id: 0000:02:00.0, compute capability: 6.1)\n",
      "2022-11-24 06:27:26.048745: I tensorflow/core/common_runtime/gpu/gpu_device.cc:1418] Created TensorFlow device (/job:localhost/replica:0/task:0/device:GPU:1 with 10417 MB memory) -> physical GPU (device: 1, name: NVIDIA GeForce GTX 1080 Ti, pci bus id: 0000:81:00.0, compute capability: 6.1)\n"
     ]
    }
   ],
   "source": [
    "import matplotlib.pyplot as plt\n",
    "import numpy as np\n",
    "from sklearn.manifold import TSNE\n",
    "import os\n",
    "import tensorflow as tf\n",
    "from lib.methods import *\n",
    "from lib.models import *\n",
    "from tensorflow import keras\n",
    "from tensorflow.keras.preprocessing.image import ImageDataGenerator\n",
    "from tensorflow.keras import preprocessing\n",
    "from tensorflow.keras import regularizers\n",
    "from tensorflow.keras.preprocessing import image_dataset_from_directory"
   ]
  },
  {
   "cell_type": "markdown",
   "metadata": {},
   "source": [
    "# Loading SIPI Dataset"
   ]
  },
  {
   "cell_type": "markdown",
   "metadata": {},
   "source": [
    "SIPI dataset was preprocessed using prepare_dataset notebook, so these three folders already contain Detritus/Non-Detritus images.\n",
    "\n",
    "Training: 70%\n",
    "Validation: 15%\n",
    "Testing: 15%"
   ]
  },
  {
   "cell_type": "code",
   "execution_count": 2,
   "metadata": {},
   "outputs": [],
   "source": [
    "DatasetName = '../../Detritus/Dataset-Detritus-Bubble'\n",
    "\n",
    "train_dir = DatasetName+'/train'\n",
    "validation_dir =  DatasetName+'/val'\n",
    "test_dir = DatasetName+'/test'\n",
    "\n",
    "test_all_class_dir = '../../Detritus/Dataset-Detritus-Bubble/test'\n",
    "train_all_class_dir = 'Dataset-Detritus-Bubble/train'\n",
    "val_all_class_dir = 'Dataset-Detritus-Bubble/val'"
   ]
  },
  {
   "cell_type": "code",
   "execution_count": 3,
   "metadata": {},
   "outputs": [],
   "source": [
    "BATCH_SIZE = 32\n",
    "IMG_SIZE = (160, 160)"
   ]
  },
  {
   "cell_type": "markdown",
   "metadata": {},
   "source": [
    "The three datasets are loaded using keras preprocessing method *image_dataset_from_directory*. Both the batch size and the image size hyperparameters where tested using different values. "
   ]
  },
  {
   "cell_type": "code",
   "execution_count": 4,
   "metadata": {
    "scrolled": true
   },
   "outputs": [
    {
     "name": "stdout",
     "output_type": "stream",
     "text": [
      "Found 38391 files belonging to 2 classes.\n"
     ]
    }
   ],
   "source": [
    "train_dataset = image_dataset_from_directory(train_dir,\n",
    "shuffle=True,\n",
    "batch_size=BATCH_SIZE,\n",
    "image_size=IMG_SIZE)"
   ]
  },
  {
   "cell_type": "code",
   "execution_count": 5,
   "metadata": {},
   "outputs": [
    {
     "name": "stdout",
     "output_type": "stream",
     "text": [
      "Found 8226 files belonging to 2 classes.\n",
      "Found 8227 files belonging to 2 classes.\n"
     ]
    }
   ],
   "source": [
    "validation_dataset = image_dataset_from_directory(validation_dir,\n",
    "shuffle=True,\n",
    "batch_size=BATCH_SIZE,\n",
    "image_size=IMG_SIZE)\n",
    "\n",
    "test_dataset = image_dataset_from_directory(test_dir,\n",
    "shuffle=True,\n",
    "batch_size=BATCH_SIZE,\n",
    "image_size=IMG_SIZE)"
   ]
  },
  {
   "cell_type": "code",
   "execution_count": 6,
   "metadata": {},
   "outputs": [
    {
     "name": "stdout",
     "output_type": "stream",
     "text": [
      "Found 8227 images belonging to 2 classes.\n"
     ]
    }
   ],
   "source": [
    "test_generator = ImageDataGenerator()\n",
    "test_data_generator = test_generator.flow_from_directory(test_all_class_dir,\n",
    "shuffle=False,\n",
    "batch_size=BATCH_SIZE)"
   ]
  },
  {
   "cell_type": "markdown",
   "metadata": {},
   "source": [
    "# Training"
   ]
  },
  {
   "cell_type": "code",
   "execution_count": 16,
   "metadata": {},
   "outputs": [],
   "source": [
    "# Hyperparamers to be used in all models\n",
    "base_learning_rate = 0.001\n",
    "IMG_SHAPE = IMG_SIZE + (3,)\n",
    "TRAINING_EPOCHS = 5\n",
    "\n",
    "\n",
    "# Callback Early Stopping\n",
    "early_stopping = tf.keras.callbacks.EarlyStopping(monitor='val_loss',\n",
    "                                                patience=20,\n",
    "                                                mode=\"min\",\n",
    "                                               restore_best_weights=True)\n",
    "\n",
    "reduce_lr_loss = tf.keras.callbacks.ReduceLROnPlateau(monitor='val_loss', factor=0.1, patience=5, verbose=1, min_delta=1e-4, mode='min')"
   ]
  },
  {
   "cell_type": "markdown",
   "metadata": {},
   "source": [
    "# Custom CNN model"
   ]
  },
  {
   "cell_type": "markdown",
   "metadata": {},
   "source": [
    "Training with Data Augmentation"
   ]
  },
  {
   "cell_type": "code",
   "execution_count": 8,
   "metadata": {},
   "outputs": [
    {
     "data": {
      "text/plain": [
       "'\\nmodel_A = get_model_A(0.0, True, 0.0)\\nhistory = train_model(model_A, TRAINING_EPOCHS, train_dataset, validation_dataset, base_learning_rate, callbacks)\\nshow_plot(history, 0.0)\\ntest_accuracy(model_A, test_dataset)\\nprint_tsne(model_A, test_dataset, 2500)\\n'"
      ]
     },
     "execution_count": 8,
     "metadata": {},
     "output_type": "execute_result"
    }
   ],
   "source": [
    "'''\n",
    "model_A = get_model_A(0.0, True, 0.0)\n",
    "history = train_model(model_A, TRAINING_EPOCHS, train_dataset, validation_dataset, base_learning_rate, callbacks)\n",
    "show_plot(history, 0.0)\n",
    "test_accuracy(model_A, test_dataset)\n",
    "print_tsne(model_A, test_dataset, 2500)\n",
    "'''"
   ]
  },
  {
   "cell_type": "code",
   "execution_count": 9,
   "metadata": {},
   "outputs": [
    {
     "data": {
      "text/plain": [
       "'\\nmodel_B = get_model_B(0.0, True, 0.0)\\nhistory = train_model(model_B, TRAINING_EPOCHS, train_dataset, validation_dataset, base_learning_rate, callbacks)\\nshow_plot(history, 0.0)\\ntest_accuracy(model_B, test_dataset)\\nprint_tsne(model_B, test_dataset, 2500)\\n'"
      ]
     },
     "execution_count": 9,
     "metadata": {},
     "output_type": "execute_result"
    }
   ],
   "source": [
    "'''\n",
    "model_B = get_model_B(0.0, True, 0.0)\n",
    "history = train_model(model_B, TRAINING_EPOCHS, train_dataset, validation_dataset, base_learning_rate, callbacks)\n",
    "show_plot(history, 0.0)\n",
    "test_accuracy(model_B, test_dataset)\n",
    "print_tsne(model_B, test_dataset, 2500)\n",
    "'''"
   ]
  },
  {
   "cell_type": "markdown",
   "metadata": {},
   "source": [
    "# MobileNetV2 Model From Scratch"
   ]
  },
  {
   "cell_type": "code",
   "execution_count": null,
   "metadata": {},
   "outputs": [
    {
     "name": "stdout",
     "output_type": "stream",
     "text": [
      "Training model, epochs:  5\n",
      "Epoch 1/5\n",
      "1200/1200 [==============================] - 40s 32ms/step - loss: 0.3704 - accuracy: 0.8178 - val_loss: 0.2691 - val_accuracy: 0.8753\n"
     ]
    },
    {
     "name": "stderr",
     "output_type": "stream",
     "text": [
      "2022-11-24 06:38:01.410445: W tensorflow/python/util/util.cc:348] Sets are not currently considered sequences, but this may change in the future, so consider avoiding using them.\n",
      "/home/dmansilla/anaconda3/envs/python37/lib/python3.9/site-packages/tensorflow/python/keras/utils/generic_utils.py:494: CustomMaskWarning: Custom mask layers require a config and must override get_config. When loading, the custom mask layer must be passed to the custom_objects argument.\n",
      "  warnings.warn('Custom mask layers require a config and must override '\n"
     ]
    },
    {
     "name": "stdout",
     "output_type": "stream",
     "text": [
      "INFO:tensorflow:Assets written to: .mobile_net_scratch/assets\n",
      "Epoch 2/5\n",
      "1200/1200 [==============================] - 37s 31ms/step - loss: 0.2494 - accuracy: 0.8913 - val_loss: 0.2392 - val_accuracy: 0.8941\n"
     ]
    },
    {
     "name": "stderr",
     "output_type": "stream",
     "text": [
      "/home/dmansilla/anaconda3/envs/python37/lib/python3.9/site-packages/tensorflow/python/keras/utils/generic_utils.py:494: CustomMaskWarning: Custom mask layers require a config and must override get_config. When loading, the custom mask layer must be passed to the custom_objects argument.\n",
      "  warnings.warn('Custom mask layers require a config and must override '\n"
     ]
    },
    {
     "name": "stdout",
     "output_type": "stream",
     "text": [
      "INFO:tensorflow:Assets written to: .mobile_net_scratch/assets\n",
      "Epoch 3/5\n",
      "1200/1200 [==============================] - 37s 31ms/step - loss: 0.2280 - accuracy: 0.9025 - val_loss: 0.2272 - val_accuracy: 0.9070\n"
     ]
    },
    {
     "name": "stderr",
     "output_type": "stream",
     "text": [
      "/home/dmansilla/anaconda3/envs/python37/lib/python3.9/site-packages/tensorflow/python/keras/utils/generic_utils.py:494: CustomMaskWarning: Custom mask layers require a config and must override get_config. When loading, the custom mask layer must be passed to the custom_objects argument.\n",
      "  warnings.warn('Custom mask layers require a config and must override '\n"
     ]
    },
    {
     "name": "stdout",
     "output_type": "stream",
     "text": [
      "INFO:tensorflow:Assets written to: .mobile_net_scratch/assets\n",
      "Epoch 4/5\n",
      "1200/1200 [==============================] - 37s 31ms/step - loss: 0.2183 - accuracy: 0.9071 - val_loss: 0.2217 - val_accuracy: 0.9058\n"
     ]
    },
    {
     "name": "stderr",
     "output_type": "stream",
     "text": [
      "/home/dmansilla/anaconda3/envs/python37/lib/python3.9/site-packages/tensorflow/python/keras/utils/generic_utils.py:494: CustomMaskWarning: Custom mask layers require a config and must override get_config. When loading, the custom mask layer must be passed to the custom_objects argument.\n",
      "  warnings.warn('Custom mask layers require a config and must override '\n"
     ]
    },
    {
     "name": "stdout",
     "output_type": "stream",
     "text": [
      "INFO:tensorflow:Assets written to: .mobile_net_scratch/assets\n",
      "Epoch 5/5\n",
      "1200/1200 [==============================] - 37s 31ms/step - loss: 0.2103 - accuracy: 0.9122 - val_loss: 0.2175 - val_accuracy: 0.9080\n"
     ]
    },
    {
     "name": "stderr",
     "output_type": "stream",
     "text": [
      "/home/dmansilla/anaconda3/envs/python37/lib/python3.9/site-packages/tensorflow/python/keras/utils/generic_utils.py:494: CustomMaskWarning: Custom mask layers require a config and must override get_config. When loading, the custom mask layer must be passed to the custom_objects argument.\n",
      "  warnings.warn('Custom mask layers require a config and must override '\n"
     ]
    },
    {
     "name": "stdout",
     "output_type": "stream",
     "text": [
      "INFO:tensorflow:Assets written to: .mobile_net_scratch/assets\n"
     ]
    },
    {
     "data": {
      "image/png": "[encoded data removed]",
      "text/plain": [
       "<Figure size 576x576 with 2 Axes>"
      ]
     },
     "metadata": {
      "needs_background": "light"
     },
     "output_type": "display_data"
    },
    {
     "name": "stdout",
     "output_type": "stream",
     "text": [
      "258/258 [==============================] - 6s 25ms/step - loss: 0.2145 - accuracy: 0.9062\n",
      "Test accuracy : 0.9061626195907593\n"
     ]
    }
   ],
   "source": [
    "mcp_save = tf.keras.callbacks.ModelCheckpoint('.mobile_net_scratch', save_best_only=True, monitor='val_loss', mode='min')\n",
    "callbacks = [mcp_save, early_stopping, reduce_lr_loss]\n",
    "\n",
    "base_learning_rate = 0.0001\n",
    "baseMobile, mobileNetModelSc = get_mobile_net(0.0, True, 0.0)\n",
    "history = train_model(mobileNetModelSc, TRAINING_EPOCHS, train_dataset, validation_dataset, base_learning_rate, callbacks)\n",
    "show_plot(history, 0.0)\n",
    "test_accuracy(mobileNetModelSc, test_dataset)\n",
    "print_tsne(mobileNetModelSc, test_dataset, 2500)"
   ]
  },
  {
   "cell_type": "code",
   "execution_count": 13,
   "metadata": {},
   "outputs": [
    {
     "name": "stdout",
     "output_type": "stream",
     "text": [
      "Model: \"model\"\n",
      "_________________________________________________________________\n",
      "Layer (type)                 Output Shape              Param #   \n",
      "=================================================================\n",
      "input_2 (InputLayer)         [(None, 160, 160, 3)]     0         \n",
      "_________________________________________________________________\n",
      "sequential (Sequential)      (None, 160, 160, 3)       0         \n",
      "_________________________________________________________________\n",
      "tf.math.truediv (TFOpLambda) (None, 160, 160, 3)       0         \n",
      "_________________________________________________________________\n",
      "tf.math.subtract (TFOpLambda (None, 160, 160, 3)       0         \n",
      "_________________________________________________________________\n",
      "mobilenetv2_1.00_160 (Functi (None, 5, 5, 1280)        2257984   \n",
      "_________________________________________________________________\n",
      "global_average_pooling2d (Gl (None, 1280)              0         \n",
      "_________________________________________________________________\n",
      "dense (Dense)                (None, 1)                 1281      \n",
      "=================================================================\n",
      "Total params: 2,259,265\n",
      "Trainable params: 1,281\n",
      "Non-trainable params: 2,257,984\n",
      "_________________________________________________________________\n"
     ]
    }
   ],
   "source": []
  },
  {
   "cell_type": "code",
   "execution_count": null,
   "metadata": {},
   "outputs": [],
   "source": [
    "show_report(mobileNetModelSc, test_data_generator)"
   ]
  },
  {
   "cell_type": "code",
   "execution_count": null,
   "metadata": {},
   "outputs": [],
   "source": [
    "correct, incorrect, correct_files, incorrect_files = show_confusion_matrix(mobileNetModelSc, test_data_generator)"
   ]
  },
  {
   "cell_type": "code",
   "execution_count": null,
   "metadata": {},
   "outputs": [],
   "source": [
    "incorrect_files"
   ]
  },
  {
   "cell_type": "code",
   "execution_count": null,
   "metadata": {},
   "outputs": [],
   "source": [
    "import os\n",
    "from shutil import copyfile\n",
    "\n",
    "def get_class_name(subdir):\n",
    "    return subdir[subdir[:subdir.rfind(\"/\")].rfind(\"/\")+1:subdir.rfind('/')]\n",
    "\n",
    "def get_file_name(subdir):\n",
    "    return subdir[subdir.rfind('/')+1:]\n",
    "\n",
    "def copy_results(files, tenancy, result):\n",
    "    for file in files:\n",
    "        class_name = get_class_name(file)\n",
    "        file_name = get_file_name(file)\n",
    "        final_dir = \"Output-MobileNet-Scratch/\" + tenancy + \"/\" + class_name+\"/\" + result\n",
    "        if not os.path.exists(os.path.join(os.getcwd(), final_dir)):\n",
    "            os.makedirs(os.path.join(os.getcwd(), final_dir), exist_ok=True)\n",
    "        copyfile(file, final_dir + \"/\"+file_name)\n",
    "    \n",
    "def process_results(correct_files, incorrect_files, tenancy):\n",
    "    copy_results(correct_files, tenancy, \"correct\")\n",
    "    copy_results(incorrect_files, tenancy, \"incorrect\")"
   ]
  },
  {
   "cell_type": "code",
   "execution_count": null,
   "metadata": {},
   "outputs": [],
   "source": [
    "# process_results(correct_files, incorrect_files, \"test\")"
   ]
  },
  {
   "cell_type": "markdown",
   "metadata": {},
   "source": [
    "# DenseNet model"
   ]
  },
  {
   "cell_type": "code",
   "execution_count": null,
   "metadata": {},
   "outputs": [],
   "source": [
    "mcp_save = tf.keras.callbacks.ModelCheckpoint('.dense_net_ft', save_best_only=True, monitor='val_loss', mode='min')\n",
    "reduce_lr_loss = tf.keras.callbacks.ReduceLROnPlateau(monitor='val_loss', factor=0.1, patience=5, verbose=1, min_delta=1e-5, mode='min')\n",
    "callbacks = [mcp_save, early_stopping, reduce_lr_loss]\n",
    "\n",
    "def do_transfer_learning(drop_value=0.0, data_aug=False, l2_reg=0.0, input_model=None, base_model=None):\n",
    "    dense_model = input_model\n",
    "    dense_base_model = base_model\n",
    "    if (input_model is None):\n",
    "        dense_base_model = tf.keras.applications.DenseNet201(input_shape=IMG_SHAPE,\n",
    "                                                   include_top=False,\n",
    "                                                   weights='imagenet')\n",
    "\n",
    "        dense_base_model.trainable = False\n",
    "\n",
    "        dense_preprocess_input = tf.keras.applications.densenet.preprocess_input\n",
    "        dense_global_average_layer = tf.keras.layers.GlobalAveragePooling2D()\n",
    "        dense_prediction_layer = tf.keras.layers.Dense(1)\n",
    "\n",
    "        dense_inputs = tf.keras.Input(shape=(160, 160, 3))\n",
    "        if data_aug:\n",
    "            dag = data_augmentation(dense_inputs)\n",
    "            dense_x =  tf.keras.applications.densenet.preprocess_input(dag)\n",
    "        else:\n",
    "            dense_x =  tf.keras.applications.densenet.preprocess_input(dense_inputs)\n",
    "        dense_x = dense_base_model(dense_x, training=False)\n",
    "        dense_x = dense_global_average_layer(dense_x)\n",
    "        if drop_value > 0:\n",
    "            dense_x = keras.layers.Dropout(drop_value)(dense_x)\n",
    "        dense_outputs = dense_prediction_layer(dense_x)\n",
    "        dense_model = tf.keras.Model(dense_inputs, dense_outputs)\n",
    "\n",
    "    dense_model.compile(optimizer=tf.keras.optimizers.Adam(learning_rate=base_learning_rate),\n",
    "              loss=tf.keras.losses.BinaryCrossentropy(from_logits=True),\n",
    "              metrics=['accuracy'])\n",
    "    \n",
    "    dense_history = dense_model.fit(train_dataset,\n",
    "                    epochs=TRAINING_EPOCHS,\n",
    "                    validation_data=validation_dataset,\n",
    "                    callbacks=callbacks)\n",
    "    \n",
    "    acc = dense_history.history['accuracy']\n",
    "    val_acc = dense_history.history['val_accuracy']\n",
    "\n",
    "    loss = dense_history.history['loss']\n",
    "    val_loss = dense_history.history['val_loss']\n",
    "\n",
    "    plt.figure(figsize=(8, 8))\n",
    "    plt.subplot(2, 1, 1)\n",
    "    plt.plot(acc, label='Training Accuracy')\n",
    "    plt.plot(val_acc, label='Validation Accuracy')\n",
    "    plt.legend(loc='lower right')\n",
    "    plt.ylabel('Accuracy')\n",
    "    plt.ylim([min(plt.ylim()),1])\n",
    "    plt.title(\"Training and Validation Accuracy with Dropout {0}\".format(drop_value))\n",
    "\n",
    "    plt.subplot(2, 1, 2)\n",
    "    plt.plot(loss, label='Training Loss')\n",
    "    plt.plot(val_loss, label='Validation Loss')\n",
    "    plt.legend(loc='upper right')\n",
    "    plt.ylabel('Cross Entropy')\n",
    "    plt.ylim([0,1.0])\n",
    "    plt.title(\"Training and Validation Loss with Dropout {0}\".format(drop_value))\n",
    "    plt.xlabel('epoch')\n",
    "    plt.show()\n",
    "    \n",
    "    dense_base_model.trainable = True\n",
    "    \n",
    "    dense_fine_tune_at = 660\n",
    "    \n",
    "    for layer in dense_base_model.layers[:dense_fine_tune_at]:\n",
    "        layer.trainable =  False\n",
    "        \n",
    "    dense_model.compile(loss=tf.keras.losses.BinaryCrossentropy(from_logits=True),\n",
    "              optimizer = tf.keras.optimizers.RMSprop(learning_rate=base_learning_rate/10),\n",
    "              metrics=['accuracy'])\n",
    "    \n",
    "    total_epochs =  TRAINING_EPOCHS + TRAINING_EPOCHS\n",
    "\n",
    "    dense_history_fine = dense_model.fit(train_dataset,\n",
    "                         epochs=total_epochs,\n",
    "                         initial_epoch=dense_history.epoch[-1],\n",
    "                         validation_data=validation_dataset,\n",
    "                         callbacks=callbacks)\n",
    "    \n",
    "    acc += dense_history_fine.history['accuracy']\n",
    "    val_acc += dense_history_fine.history['val_accuracy']\n",
    "\n",
    "    loss += dense_history_fine.history['loss']\n",
    "    val_loss += dense_history_fine.history['val_loss']\n",
    "    \n",
    "    loss, accuracy = dense_model.evaluate(test_dataset)\n",
    "    print('Test accuracy :', accuracy)\n",
    "    \n",
    "    \n",
    "    show_plot(acc, val_acc, loss, val_loss)\n",
    "\n",
    "    print_tsne(dense_model, test_dataset)"
   ]
  },
  {
   "cell_type": "code",
   "execution_count": null,
   "metadata": {},
   "outputs": [],
   "source": [
    "def get_dense_net(drop_value=0.0, data_aug=False, l2_reg=0.0):\n",
    "    dense_base_model = tf.keras.applications.DenseNet201(input_shape=IMG_SHAPE,\n",
    "                                                   include_top=False,\n",
    "                                                   weights='imagenet')\n",
    "\n",
    "    dense_base_model.trainable = False\n",
    "\n",
    "    dense_preprocess_input = tf.keras.applications.densenet.preprocess_input\n",
    "    dense_global_average_layer = tf.keras.layers.GlobalAveragePooling2D()\n",
    "    dense_prediction_layer = tf.keras.layers.Dense(1)\n",
    "\n",
    "    dense_inputs = tf.keras.Input(shape=(160, 160, 3))\n",
    "    if data_aug:\n",
    "        dag = data_augmentation(dense_inputs)\n",
    "        dense_x =  tf.keras.applications.densenet.preprocess_input(dag)\n",
    "    else:\n",
    "        dense_x =  tf.keras.applications.densenet.preprocess_input(dense_inputs)\n",
    "    dense_x = dense_base_model(dense_x, training=False)\n",
    "    dense_x = dense_global_average_layer(dense_x)\n",
    "    if drop_value > 0:\n",
    "        dense_x = keras.layers.Dropout(drop_value)(dense_x)\n",
    "    dense_outputs = dense_prediction_layer(dense_x)\n",
    "    dense_model = tf.keras.Model(dense_inputs, dense_outputs)\n",
    "    return dense_base_model, dense_model"
   ]
  },
  {
   "cell_type": "code",
   "execution_count": null,
   "metadata": {},
   "outputs": [],
   "source": [
    "# do_transfer_learning(0.0, False, 0.0)"
   ]
  },
  {
   "cell_type": "code",
   "execution_count": null,
   "metadata": {},
   "outputs": [],
   "source": [
    "base_dense_model, denseNetModel = get_dense_net(0.0, True, 0.0)\n",
    "do_transfer_learning(0.0, True, 0.0, denseNetModel, base_dense_model)"
   ]
  },
  {
   "cell_type": "code",
   "execution_count": null,
   "metadata": {},
   "outputs": [],
   "source": [
    "show_report(denseNetModel, test_data_generator)"
   ]
  },
  {
   "cell_type": "code",
   "execution_count": null,
   "metadata": {},
   "outputs": [],
   "source": [
    "correct, incorrect, dense_correct_files, dense_incorrect_files = show_confusion_matrix(denseNetModel, test_data_generator)"
   ]
  },
  {
   "cell_type": "code",
   "execution_count": null,
   "metadata": {},
   "outputs": [],
   "source": [
    "import os\n",
    "from shutil import copyfile\n",
    "\n",
    "def get_class_name(subdir):\n",
    "    return subdir[subdir[:subdir.rfind(\"/\")].rfind(\"/\")+1:subdir.rfind('/')]\n",
    "\n",
    "def get_file_name(subdir):\n",
    "    return subdir[subdir.rfind('/')+1:]\n",
    "\n",
    "def copy_results(files, tenancy, result):\n",
    "    for file in files:\n",
    "        class_name = get_class_name(file)\n",
    "        file_name = get_file_name(file)\n",
    "        final_dir = \"Output-DenseNet-TF-3/\" + tenancy + \"/\" + class_name+\"/\" + result\n",
    "        if not os.path.exists(os.path.join(os.getcwd(), final_dir)):\n",
    "            os.makedirs(os.path.join(os.getcwd(), final_dir), exist_ok=True)\n",
    "        copyfile(file, final_dir + \"/\"+file_name)\n",
    "    \n",
    "def process_results(correct_files, incorrect_files, tenancy):\n",
    "    copy_results(correct_files, tenancy, \"correct\")\n",
    "    copy_results(incorrect_files, tenancy, \"incorrect\")"
   ]
  },
  {
   "cell_type": "code",
   "execution_count": null,
   "metadata": {},
   "outputs": [],
   "source": [
    "# process_results(dense_correct_files, dense_incorrect_files, \"test\")"
   ]
  },
  {
   "cell_type": "code",
   "execution_count": null,
   "metadata": {},
   "outputs": [],
   "source": [
    "len(dense_incorrect_files)"
   ]
  },
  {
   "cell_type": "code",
   "execution_count": null,
   "metadata": {},
   "outputs": [],
   "source": [
    "len(incorrect_files)"
   ]
  },
  {
   "cell_type": "code",
   "execution_count": null,
   "metadata": {},
   "outputs": [],
   "source": [
    "len(list(set(incorrect_files) - set(dense_incorrect_files)))"
   ]
  },
  {
   "cell_type": "code",
   "execution_count": null,
   "metadata": {},
   "outputs": [],
   "source": [
    "len(list(set(dense_incorrect_files) - set(incorrect_files)))"
   ]
  },
  {
   "cell_type": "code",
   "execution_count": null,
   "metadata": {},
   "outputs": [],
   "source": [
    "len(list(set(dense_incorrect_files) & set(incorrect_files)))"
   ]
  },
  {
   "cell_type": "markdown",
   "metadata": {},
   "source": [
    " "
   ]
  },
  {
   "cell_type": "code",
   "execution_count": null,
   "metadata": {},
   "outputs": [],
   "source": []
  },
  {
   "cell_type": "code",
   "execution_count": null,
   "metadata": {},
   "outputs": [],
   "source": []
  },
  {
   "cell_type": "code",
   "execution_count": null,
   "metadata": {},
   "outputs": [],
   "source": []
  },
  {
   "cell_type": "code",
   "execution_count": null,
   "metadata": {},
   "outputs": [],
   "source": []
  },
  {
   "cell_type": "code",
   "execution_count": null,
   "metadata": {},
   "outputs": [],
   "source": []
  },
  {
   "cell_type": "code",
   "execution_count": null,
   "metadata": {},
   "outputs": [],
   "source": []
  },
  {
   "cell_type": "code",
   "execution_count": null,
   "metadata": {},
   "outputs": [],
   "source": []
  },
  {
   "cell_type": "code",
   "execution_count": null,
   "metadata": {},
   "outputs": [],
   "source": []
  },
  {
   "cell_type": "code",
   "execution_count": null,
   "metadata": {},
   "outputs": [],
   "source": []
  },
  {
   "cell_type": "code",
   "execution_count": null,
   "metadata": {},
   "outputs": [],
   "source": []
  },
  {
   "cell_type": "code",
   "execution_count": null,
   "metadata": {},
   "outputs": [],
   "source": []
  }
 ],
 "metadata": {
  "kernelspec": {
   "display_name": "Python 3 (ipykernel)",
   "language": "python",
   "name": "python3"
  },
  "language_info": {
   "codemirror_mode": {
    "name": "ipython",
    "version": 3
   },
   "file_extension": ".py",
   "mimetype": "text/x-python",
   "name": "python",
   "nbconvert_exporter": "python",
   "pygments_lexer": "ipython3",
   "version": "3.9.5"
  }
 },
 "nbformat": 4,
 "nbformat_minor": 4
}
